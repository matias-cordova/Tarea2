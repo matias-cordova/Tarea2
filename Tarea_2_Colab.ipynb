{
  "nbformat": 4,
  "nbformat_minor": 0,
  "metadata": {
    "colab": {
      "name": "Tarea 2 Colab.ipynb",
      "provenance": [],
      "authorship_tag": "ABX9TyN48uVrg3wwKA0FvBA89ah+",
      "include_colab_link": true
    },
    "kernelspec": {
      "name": "python3",
      "display_name": "Python 3"
    },
    "language_info": {
      "name": "python"
    }
  },
  "cells": [
    {
      "cell_type": "markdown",
      "metadata": {
        "id": "view-in-github",
        "colab_type": "text"
      },
      "source": [
        "<a href=\"https://colab.research.google.com/github/matias-cordova/Tarea2.4/blob/main/Tarea_2_Colab.ipynb\" target=\"_parent\"><img src=\"https://colab.research.google.com/assets/colab-badge.svg\" alt=\"Open In Colab\"/></a>"
      ]
    },
    {
      "cell_type": "code",
      "metadata": {
        "id": "faIuKcXWXNKu"
      },
      "source": [
        "%load_ext rpy2.ipython"
      ],
      "execution_count": null,
      "outputs": []
    },
    {
      "cell_type": "code",
      "metadata": {
        "id": "QFZR0goENEqj"
      },
      "source": [
        "%R x <- 10\n",
        "%R print(\"Se crea la variable x=10 en R\")\n",
        "%R print(x)"
      ],
      "execution_count": null,
      "outputs": []
    },
    {
      "cell_type": "code",
      "metadata": {
        "id": "l2D7kXdEQvYb"
      },
      "source": [
        "x = %R x\n",
        "def sumar10(y):\n",
        "  return y+10\n",
        "print(\"Se le suman 10 unidades usando una funcion definida en Python\")\n",
        "x = sumar10(x)\n",
        "print(x)"
      ],
      "execution_count": null,
      "outputs": []
    },
    {
      "cell_type": "code",
      "metadata": {
        "id": "Sd5pT9XCScNs"
      },
      "source": [
        "%Rpush x\n",
        "%R x = x + 2\n",
        "%R print(\"Se vuelven a sumar 2 unidades, esta vez usando R\")\n",
        "%R print(x)"
      ],
      "execution_count": null,
      "outputs": []
    }
  ]
}