{
  "nbformat": 4,
  "nbformat_minor": 0,
  "metadata": {
    "colab": {
      "name": "Tarea 2 Colab.ipynb",
      "provenance": [],
      "authorship_tag": "ABX9TyN48uVrg3wwKA0FvBA89ah+",
      "include_colab_link": true
    },
    "kernelspec": {
      "name": "python3",
      "display_name": "Python 3"
    },
    "language_info": {
      "name": "python"
    }
  },
  "cells": [
    {
      "cell_type": "markdown",
      "metadata": {
        "id": "view-in-github",
        "colab_type": "text"
      },
      "source": [
        "<a href=\"https://colab.research.google.com/github/matias-cordova/Tarea2.4/blob/main/Tarea_2_Colab.ipynb\" target=\"_parent\"><img src=\"https://colab.research.google.com/assets/colab-badge.svg\" alt=\"Open In Colab\"/></a>"
      ]
    },
    {
      "cell_type": "code",
      "metadata": {
        "id": "faIuKcXWXNKu"
      },
      "source": [
        "%load_ext rpy2.ipython"
      ],
      "execution_count": null,
      "outputs": []
    },
    {
      "cell_type": "code",
      "metadata": {
        "colab": {
          "base_uri": "https://localhost:8080/"
        },
        "id": "QFZR0goENEqj",
        "outputId": "fe8b1a31-6544-4d95-947c-b00259d32c30"
      },
      "source": [
        "%R x <- 10\n",
        "%R print(\"Se crea la variable x=10 en R\")\n",
        "%R print(x)"
      ],
      "execution_count": null,
      "outputs": [
        {
          "output_type": "stream",
          "text": [
            "[1] \"Se crea la variable x=10 en R\"\n",
            "[1] 10\n"
          ],
          "name": "stdout"
        },
        {
          "output_type": "execute_result",
          "data": {
            "text/plain": [
              "array([10.])"
            ]
          },
          "metadata": {
            "tags": []
          },
          "execution_count": 3
        }
      ]
    },
    {
      "cell_type": "code",
      "metadata": {
        "colab": {
          "base_uri": "https://localhost:8080/"
        },
        "id": "l2D7kXdEQvYb",
        "outputId": "1244dfc3-1794-4727-9f3b-ba4ce63cd4a0"
      },
      "source": [
        "x = %R x\n",
        "def sumar10(y):\n",
        "  return y+10\n",
        "print(\"Se le suman 10 unidades usando una funcion definida en Python\")\n",
        "x = sumar10(x)\n",
        "print(x)"
      ],
      "execution_count": null,
      "outputs": [
        {
          "output_type": "stream",
          "text": [
            "Se le suman 10 unidades usando una funcion definida en Python\n",
            "[20.]\n"
          ],
          "name": "stdout"
        }
      ]
    },
    {
      "cell_type": "code",
      "metadata": {
        "colab": {
          "base_uri": "https://localhost:8080/"
        },
        "id": "Sd5pT9XCScNs",
        "outputId": "376667de-2edb-4582-c331-5a536da0ea14"
      },
      "source": [
        "%Rpush x\n",
        "%R x = x + 2\n",
        "%R print(\"Se vuelven a sumar 2 unidades, esta vez usando R\")\n",
        "%R print(x)"
      ],
      "execution_count": null,
      "outputs": [
        {
          "output_type": "stream",
          "text": [
            "[1] \"Se vuelven a sumar 2 unidades, esta vez usando R\"\n",
            "[1] 22\n"
          ],
          "name": "stdout"
        },
        {
          "output_type": "execute_result",
          "data": {
            "text/plain": [
              "array([22.])"
            ]
          },
          "metadata": {
            "tags": []
          },
          "execution_count": 45
        }
      ]
    }
  ]
}